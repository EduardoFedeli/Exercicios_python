{
 "cells": [
  {
   "cell_type": "code",
   "execution_count": null,
   "id": "c19342c0",
   "metadata": {},
   "outputs": [],
   "source": [
    "#|-----------------------------------------------------------------------ATRIBUTOS E MÉTODOS-------------------------------------------------------------------------------------|"
   ]
  },
  {
   "cell_type": "code",
   "execution_count": null,
   "id": "db3d23bb",
   "metadata": {},
   "outputs": [],
   "source": [
    "# Exercício 1 - Criando Classes em Python\n",
    "# \n",
    "# Objetivo:\n",
    "# Crie uma classe chamada \"Carro\" que possua:\n",
    "#   - Dois atributos: \"marca\" e \"ano\"\n",
    "#   - Um método chamado \"mostrar_info\" que exibe a frase:\n",
    "#       \"Este carro é da marca X e do ano Y.\"\n",
    "\n",
    "# Em seguida, crie um objeto da classe Carro e utilize o método mostrar_info para mostrar ele."
   ]
  },
  {
   "cell_type": "code",
   "execution_count": null,
   "id": "287c298f",
   "metadata": {},
   "outputs": [],
   "source": [
    "class Carro:\n",
    "    def __init__(self, marca, ano):\n",
    "        self.marca = marca\n",
    "        self.ano = ano\n",
    "\n",
    "    def mostrar_info(self):\n",
    "        print(f\"Este carro é da marca {self.marca} e do ano {self.ano}\")"
   ]
  },
  {
   "cell_type": "code",
   "execution_count": 6,
   "id": "ce4eac16",
   "metadata": {},
   "outputs": [
    {
     "name": "stdout",
     "output_type": "stream",
     "text": [
      "Este carro é da marca Toyota e do ano 2020\n"
     ]
    }
   ],
   "source": [
    "meu_carro = Carro('Toyota', 2020)\n",
    "meu_carro.mostrar_info()"
   ]
  },
  {
   "cell_type": "code",
   "execution_count": null,
   "id": "8d8fd8ca",
   "metadata": {},
   "outputs": [],
   "source": [
    "# Exercício 2 - Classe Pessoa\n",
    "#\n",
    "# Crie uma classe chamada Pessoa que possua:\n",
    "#   - Dois atributos: nome e idade\n",
    "#   - Um método chamado apresentar que exibe a frase:\n",
    "#       \"Oi, meu nome é X e eu tenho Y anos.\"\n",
    "#\n",
    "# Em seguida, crie três objetos da classe Pessoa e utilize o método apresentar para cada um."
   ]
  },
  {
   "cell_type": "code",
   "execution_count": 11,
   "id": "1bf38025",
   "metadata": {},
   "outputs": [],
   "source": [
    "class Pessoa:\n",
    "    def __init__(self, nome, idade):\n",
    "        self.nome = nome\n",
    "        self.idade = idade\n",
    "    \n",
    "    def apresentar(self):\n",
    "        print(f'Oi, meu nome é {self.nome} e eu tenho {self.idade} anos')"
   ]
  },
  {
   "cell_type": "code",
   "execution_count": 12,
   "id": "f24672d2",
   "metadata": {},
   "outputs": [
    {
     "name": "stdout",
     "output_type": "stream",
     "text": [
      "Oi, meu nome é Eduardo e eu tenho 20 anos\n",
      "Oi, meu nome é Fabio e eu tenho 50 anos\n",
      "Oi, meu nome é Livia e eu tenho 20 anos\n"
     ]
    }
   ],
   "source": [
    "pessoa1 = Pessoa('Eduardo', 20)\n",
    "pessoa2 = Pessoa('Fabio', 50)\n",
    "pessoa3 = Pessoa('Livia', 20)\n",
    "\n",
    "pessoa1.apresentar()\n",
    "pessoa2.apresentar()\n",
    "pessoa3.apresentar()\n"
   ]
  },
  {
   "cell_type": "code",
   "execution_count": null,
   "id": "eace406d",
   "metadata": {},
   "outputs": [],
   "source": [
    "# Exercício 3 - Classe Produto\n",
    "#\n",
    "# Crie uma classe chamada Produto que possua:\n",
    "#   - Dois atributos: nome e preco\n",
    "#   - Um método chamado aplicar_desconto que receba um valor percentual\n",
    "#     e calcule o novo preço do produto após o desconto.\n",
    "#\n",
    "# Em seguida:\n",
    "#   - Crie dois objetos da classe Produto\n",
    "#   - Aplique um desconto diferente para cada um\n",
    "#   - Mostre o preço original e o preço com desconto"
   ]
  },
  {
   "cell_type": "code",
   "execution_count": 18,
   "id": "fa1f8639",
   "metadata": {},
   "outputs": [],
   "source": [
    "class Produto:\n",
    "    def __init__(self, nome, preco):\n",
    "        self.nome = nome\n",
    "        self.preco = preco\n",
    "\n",
    "    def aplicar_desconto(self, percentual):\n",
    "        desconto = self.preco * (percentual / 100)\n",
    "        novo_preco = self.preco - desconto\n",
    "        print(f\"Produto: {self.nome}\")\n",
    "        print(f\"Preço original: {self.preco}\")\n",
    "        print(f\"Preço com {percentual}% de desconto: {novo_preco}\\n\")\n"
   ]
  },
  {
   "cell_type": "code",
   "execution_count": 17,
   "id": "758fd6a2",
   "metadata": {},
   "outputs": [
    {
     "name": "stdout",
     "output_type": "stream",
     "text": [
      "O preço do produto Camisa com desconto é 90.0\n",
      "O preço do produto Tênis com desconto é 150.0\n"
     ]
    }
   ],
   "source": [
    "p1 = Produto(\"Camisa\", 100)\n",
    "p2 = Produto(\"Tênis\", 200)\n",
    "\n",
    "p1.aplicar_desconto(10)  \n",
    "p2.aplicar_desconto(25)  "
   ]
  },
  {
   "cell_type": "code",
   "execution_count": null,
   "id": "55076046",
   "metadata": {},
   "outputs": [],
   "source": [
    "# Exercício 4 - Classe Produto com controle de desconto\n",
    "#\n",
    "# Crie uma classe chamada Produto que possua:\n",
    "#   - Dois atributos: nome e preco\n",
    "#   - Um método chamado aplicar_desconto que:\n",
    "#       - Receba um valor percentual\n",
    "#       - Não permita que o desconto seja maior que 50%\n",
    "#       - Mostre o preço original e o preço com desconto\n",
    "#\n",
    "# Em seguida:\n",
    "#   - Crie dois objetos da classe Produto\n",
    "#   - Aplique diferentes descontos para cada um\n",
    "#   - Observe o comportamento quando o desconto ultrapassa 50%"
   ]
  },
  {
   "cell_type": "code",
   "execution_count": 2,
   "id": "aa0804f9",
   "metadata": {},
   "outputs": [],
   "source": [
    "class Produto:\n",
    "\n",
    "    def __init__(self, nome, preco):\n",
    "        self.nome = nome\n",
    "        self.preco = preco\n",
    "\n",
    "    def aplicar_desconto(self, percentual):\n",
    "        print()  # linha em branco para separar produtos\n",
    "        if percentual < 50:\n",
    "            desconto = self.preco * (percentual/100)\n",
    "            novo_preco = self.preco - desconto\n",
    "            \n",
    "            print(f\"Produto: {self.nome}\")\n",
    "            print(f\"Preço original: R$ {self.preco:.2f}\")\n",
    "            print(f\"Preço com {percentual}% de desconto: R$ {novo_preco:.2f}\")\n",
    "\n",
    "        else:\n",
    "            print(f\"Desculpe, o desconto de {percentual}% para o produto {self.nome} não é permitido. O desconto máximo é 50%.\")\n",
    "            \n"
   ]
  },
  {
   "cell_type": "code",
   "execution_count": 3,
   "id": "f50ea0de",
   "metadata": {},
   "outputs": [
    {
     "name": "stdout",
     "output_type": "stream",
     "text": [
      "\n",
      "Desculpe, o desconto de 52% para o produto Garfo não é permitido. O desconto máximo é 50%.\n",
      "\n",
      "Produto: Vassoura\n",
      "Preço original: R$ 60.00\n",
      "Preço com 20% de desconto: R$ 48.00\n"
     ]
    }
   ],
   "source": [
    "p1 = Produto('Garfo', 70)\n",
    "p2 = Produto('Vassoura', 60)\n",
    "\n",
    "p1.aplicar_desconto(52)\n",
    "p2.aplicar_desconto(20)\n"
   ]
  },
  {
   "cell_type": "code",
   "execution_count": null,
   "id": "d8499559",
   "metadata": {},
   "outputs": [],
   "source": [
    "#|-------------------------------------------------------------------------- HERANÇAS ----------------------------------------------------------------------------------------|\n"
   ]
  },
  {
   "cell_type": "code",
   "execution_count": null,
   "id": "db1eb878",
   "metadata": {},
   "outputs": [],
   "source": [
    "# Exercício 7 - Herança em Classes\n",
    "#\n",
    "# Crie uma classe chamada Funcionario com os atributos:\n",
    "#   - nome\n",
    "#   - salario\n",
    "#\n",
    "# Adicione um método chamado exibir_dados que mostre essas informações.\n",
    "#\n",
    "# Em seguida:\n",
    "#   - Crie uma classe chamada Gerente que herde de Funcionario\n",
    "#   - Adicione o atributo \"setor\"\n",
    "#   - Sobrescreva o método exibir_dados para mostrar também o setor do gerente\n",
    "#\n",
    "# Por fim:\n",
    "#   - Crie um objeto da classe Funcionario e outro da classe Gerente\n",
    "#   - Mostre as informações de cada um"
   ]
  },
  {
   "cell_type": "code",
   "execution_count": null,
   "id": "572379bb",
   "metadata": {},
   "outputs": [],
   "source": [
    "class Funcionario:\n",
    "    def __init__(self, nome, salario):\n",
    "        self.nome = nome\n",
    "        self.salario = salario \n",
    "\n",
    "    def exibir_dados(self):\n",
    "        print(f\"Nome: {self.nome}\")\n",
    "        print(f\"Salário: R$ {self.salario:,.2f}\".replace(\",\", \"X\").replace(\".\", \",\").replace(\"X\", \".\"))\n"
   ]
  },
  {
   "cell_type": "code",
   "execution_count": 14,
   "id": "f3d0fcfc",
   "metadata": {},
   "outputs": [],
   "source": [
    "class Gerente(Funcionario):\n",
    "    def __init__(self, nome, salario, setor):\n",
    "        super().__init__(nome, salario)  \n",
    "        self.setor = setor\n",
    "    \n",
    "    def exibir_dados(self):\n",
    "        print(f\"Nome: {self.nome}\")\n",
    "        print(f\"Salário: R$ {self.salario:,.2f}\")\n",
    "        print(f\"Setor: {self.setor}\")\n",
    "        "
   ]
  },
  {
   "cell_type": "code",
   "execution_count": 15,
   "id": "f8945ad1",
   "metadata": {},
   "outputs": [
    {
     "name": "stdout",
     "output_type": "stream",
     "text": [
      "Nome: Ilberto\n",
      "Salário: R$ 7.000,00\n",
      "\n",
      "----------------------------------------\n",
      "\n",
      "Nome: Rodrigo\n",
      "Salário: R$ 10,500.00\n",
      "Setor: T.I\n"
     ]
    }
   ],
   "source": [
    "f1 = Funcionario(\"Ilberto\", 7000.00)\n",
    "g1 = Gerente(\"Rodrigo\", 10500.00, \"T.I\")\n",
    "\n",
    "f1.exibir_dados()\n",
    "print(\"\\n\" + \"-\"*40 + \"\\n\")\n",
    "g1.exibir_dados()"
   ]
  }
 ],
 "metadata": {
  "kernelspec": {
   "display_name": "Python 3",
   "language": "python",
   "name": "python3"
  },
  "language_info": {
   "codemirror_mode": {
    "name": "ipython",
    "version": 3
   },
   "file_extension": ".py",
   "mimetype": "text/x-python",
   "name": "python",
   "nbconvert_exporter": "python",
   "pygments_lexer": "ipython3",
   "version": "3.13.7"
  }
 },
 "nbformat": 4,
 "nbformat_minor": 5
}
