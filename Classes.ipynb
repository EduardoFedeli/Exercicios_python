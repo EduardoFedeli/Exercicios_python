{
 "cells": [
  {
   "cell_type": "code",
   "execution_count": 32,
   "id": "c19342c0",
   "metadata": {},
   "outputs": [],
   "source": [
    "#|-----------------------------------------------------------------------ATRIBUTOS E MÉTODOS-------------------------------------------------------------------------------------|"
   ]
  },
  {
   "cell_type": "code",
   "execution_count": 33,
   "id": "db3d23bb",
   "metadata": {},
   "outputs": [],
   "source": [
    "# Exercício 1 - Criando Classes em Python\n",
    "# \n",
    "# Objetivo:\n",
    "# Crie uma classe chamada \"Carro\" que possua:\n",
    "#   - Dois atributos: \"marca\" e \"ano\"\n",
    "#   - Um método chamado \"mostrar_info\" que exibe a frase:\n",
    "#       \"Este carro é da marca X e do ano Y.\"\n",
    "\n",
    "# Em seguida, crie um objeto da classe Carro e utilize o método mostrar_info para mostrar ele."
   ]
  },
  {
   "cell_type": "code",
   "execution_count": 34,
   "id": "287c298f",
   "metadata": {},
   "outputs": [],
   "source": [
    "class Carro:\n",
    "    def __init__(self, marca, ano):\n",
    "        self.marca = marca\n",
    "        self.ano = ano\n",
    "\n",
    "    def mostrar_info(self):\n",
    "        print(f\"Este carro é da marca {self.marca} e do ano {self.ano}\")"
   ]
  },
  {
   "cell_type": "code",
   "execution_count": 35,
   "id": "ce4eac16",
   "metadata": {},
   "outputs": [
    {
     "name": "stdout",
     "output_type": "stream",
     "text": [
      "Este carro é da marca Toyota e do ano 2020\n"
     ]
    }
   ],
   "source": [
    "meu_carro = Carro('Toyota', 2020)\n",
    "meu_carro.mostrar_info()"
   ]
  },
  {
   "cell_type": "code",
   "execution_count": 36,
   "id": "8d8fd8ca",
   "metadata": {},
   "outputs": [],
   "source": [
    "# Exercício 2 - Classe Pessoa\n",
    "#\n",
    "# Crie uma classe chamada Pessoa que possua:\n",
    "#   - Dois atributos: nome e idade\n",
    "#   - Um método chamado apresentar que exibe a frase:\n",
    "#       \"Oi, meu nome é X e eu tenho Y anos.\"\n",
    "#\n",
    "# Em seguida, crie três objetos da classe Pessoa e utilize o método apresentar para cada um."
   ]
  },
  {
   "cell_type": "code",
   "execution_count": 37,
   "id": "1bf38025",
   "metadata": {},
   "outputs": [],
   "source": [
    "class Pessoa:\n",
    "    def __init__(self, nome, idade):\n",
    "        self.nome = nome\n",
    "        self.idade = idade\n",
    "    \n",
    "    def apresentar(self):\n",
    "        print(f'Oi, meu nome é {self.nome} e eu tenho {self.idade} anos')"
   ]
  },
  {
   "cell_type": "code",
   "execution_count": 38,
   "id": "f24672d2",
   "metadata": {},
   "outputs": [
    {
     "name": "stdout",
     "output_type": "stream",
     "text": [
      "Oi, meu nome é Eduardo e eu tenho 20 anos\n",
      "Oi, meu nome é Fabio e eu tenho 50 anos\n",
      "Oi, meu nome é Livia e eu tenho 20 anos\n"
     ]
    }
   ],
   "source": [
    "pessoa1 = Pessoa('Eduardo', 20)\n",
    "pessoa2 = Pessoa('Fabio', 50)\n",
    "pessoa3 = Pessoa('Livia', 20)\n",
    "\n",
    "pessoa1.apresentar()\n",
    "pessoa2.apresentar()\n",
    "pessoa3.apresentar()\n"
   ]
  },
  {
   "cell_type": "code",
   "execution_count": 39,
   "id": "eace406d",
   "metadata": {},
   "outputs": [],
   "source": [
    "# Exercício 3 - Classe Produto\n",
    "#\n",
    "# Crie uma classe chamada Produto que possua:\n",
    "#   - Dois atributos: nome e preco\n",
    "#   - Um método chamado aplicar_desconto que receba um valor percentual\n",
    "#     e calcule o novo preço do produto após o desconto.\n",
    "#\n",
    "# Em seguida:\n",
    "#   - Crie dois objetos da classe Produto\n",
    "#   - Aplique um desconto diferente para cada um\n",
    "#   - Mostre o preço original e o preço com desconto"
   ]
  },
  {
   "cell_type": "code",
   "execution_count": 40,
   "id": "fa1f8639",
   "metadata": {},
   "outputs": [],
   "source": [
    "class Produto:\n",
    "    def __init__(self, nome, preco):\n",
    "        self.nome = nome\n",
    "        self.preco = preco\n",
    "\n",
    "    def aplicar_desconto(self, percentual):\n",
    "        desconto = self.preco * (percentual / 100)\n",
    "        novo_preco = self.preco - desconto\n",
    "        print(f\"Produto: {self.nome}\")\n",
    "        print(f\"Preço original: {self.preco}\")\n",
    "        print(f\"Preço com {percentual}% de desconto: {novo_preco}\\n\")\n"
   ]
  },
  {
   "cell_type": "code",
   "execution_count": 41,
   "id": "758fd6a2",
   "metadata": {},
   "outputs": [
    {
     "name": "stdout",
     "output_type": "stream",
     "text": [
      "Produto: Camisa\n",
      "Preço original: 100\n",
      "Preço com 10% de desconto: 90.0\n",
      "\n",
      "Produto: Tênis\n",
      "Preço original: 200\n",
      "Preço com 25% de desconto: 150.0\n",
      "\n"
     ]
    }
   ],
   "source": [
    "p1 = Produto(\"Camisa\", 100)\n",
    "p2 = Produto(\"Tênis\", 200)\n",
    "\n",
    "p1.aplicar_desconto(10)  \n",
    "p2.aplicar_desconto(25)  "
   ]
  },
  {
   "cell_type": "code",
   "execution_count": 42,
   "id": "55076046",
   "metadata": {},
   "outputs": [],
   "source": [
    "# Exercício 4 - Classe Produto com controle de desconto\n",
    "#\n",
    "# Crie uma classe chamada Produto que possua:\n",
    "#   - Dois atributos: nome e preco\n",
    "#   - Um método chamado aplicar_desconto que:\n",
    "#       - Receba um valor percentual\n",
    "#       - Não permita que o desconto seja maior que 50%\n",
    "#       - Mostre o preço original e o preço com desconto\n",
    "#\n",
    "# Em seguida:\n",
    "#   - Crie dois objetos da classe Produto\n",
    "#   - Aplique diferentes descontos para cada um\n",
    "#   - Observe o comportamento quando o desconto ultrapassa 50%"
   ]
  },
  {
   "cell_type": "code",
   "execution_count": 43,
   "id": "aa0804f9",
   "metadata": {},
   "outputs": [],
   "source": [
    "class Produto:\n",
    "\n",
    "    def __init__(self, nome, preco):\n",
    "        self.nome = nome\n",
    "        self.preco = preco\n",
    "\n",
    "    def aplicar_desconto(self, percentual):\n",
    "        print()  # linha em branco para separar produtos\n",
    "        if percentual < 50:\n",
    "            desconto = self.preco * (percentual/100)\n",
    "            novo_preco = self.preco - desconto\n",
    "            \n",
    "            print(f\"Produto: {self.nome}\")\n",
    "            print(f\"Preço original: R$ {self.preco:.2f}\")\n",
    "            print(f\"Preço com {percentual}% de desconto: R$ {novo_preco:.2f}\")\n",
    "\n",
    "        else:\n",
    "            print(f\"Desculpe, o desconto de {percentual}% para o produto {self.nome} não é permitido. O desconto máximo é 50%.\")\n",
    "            \n"
   ]
  },
  {
   "cell_type": "code",
   "execution_count": 44,
   "id": "f50ea0de",
   "metadata": {},
   "outputs": [
    {
     "name": "stdout",
     "output_type": "stream",
     "text": [
      "\n",
      "Desculpe, o desconto de 52% para o produto Garfo não é permitido. O desconto máximo é 50%.\n",
      "\n",
      "Produto: Vassoura\n",
      "Preço original: R$ 60.00\n",
      "Preço com 20% de desconto: R$ 48.00\n"
     ]
    }
   ],
   "source": [
    "p1 = Produto('Garfo', 70)\n",
    "p2 = Produto('Vassoura', 60)\n",
    "\n",
    "p1.aplicar_desconto(52)\n",
    "p2.aplicar_desconto(20)\n"
   ]
  },
  {
   "cell_type": "code",
   "execution_count": 45,
   "id": "d8499559",
   "metadata": {},
   "outputs": [],
   "source": [
    "#|-------------------------------------------------------------------------- HERANÇAS ----------------------------------------------------------------------------------------|\n"
   ]
  },
  {
   "cell_type": "code",
   "execution_count": 46,
   "id": "db1eb878",
   "metadata": {},
   "outputs": [],
   "source": [
    "# Exercício 7 - Herança em Classes\n",
    "#\n",
    "# Crie uma classe chamada Funcionario com os atributos:\n",
    "#   - nome\n",
    "#   - salario\n",
    "#\n",
    "# Adicione um método chamado exibir_dados que mostre essas informações.\n",
    "#\n",
    "# Em seguida:\n",
    "#   - Crie uma classe chamada Gerente que herde de Funcionario\n",
    "#   - Adicione o atributo \"setor\"\n",
    "#   - Sobrescreva o método exibir_dados para mostrar também o setor do gerente\n",
    "#\n",
    "# Por fim:\n",
    "#   - Crie um objeto da classe Funcionario e outro da classe Gerente\n",
    "#   - Mostre as informações de cada um"
   ]
  },
  {
   "cell_type": "code",
   "execution_count": 92,
   "id": "572379bb",
   "metadata": {},
   "outputs": [],
   "source": [
    "class Funcionario:\n",
    "    def __init__(self, nome, salario):\n",
    "        self.nome = nome\n",
    "        self.salario = salario \n",
    "\n",
    "    def exibir_dados(self):\n",
    "        print(f\"Nome: {self.nome}\")\n",
    "        print(f\"Salário: R$ {self.salario}\")\n"
   ]
  },
  {
   "cell_type": "code",
   "execution_count": 93,
   "id": "f3d0fcfc",
   "metadata": {},
   "outputs": [],
   "source": [
    "class Gerente(Funcionario):\n",
    "    def __init__(self, nome, salario, setor):\n",
    "        super().__init__(nome, salario)  \n",
    "        self.setor = setor\n",
    "    \n",
    "    def exibir_dados(self):\n",
    "        print(f\"Nome: {self.nome}\")\n",
    "        print(f\"Salário: R$ {self.salario}\")\n",
    "        print(f\"Setor: {self.setor}\")\n",
    "        "
   ]
  },
  {
   "cell_type": "code",
   "execution_count": 95,
   "id": "f8945ad1",
   "metadata": {},
   "outputs": [
    {
     "name": "stdout",
     "output_type": "stream",
     "text": [
      "Nome: Ilberto\n",
      "Salário: R$ 7000\n",
      "\n",
      "----------------------------------------\n",
      "\n",
      "Nome: Rodrigo\n",
      "Salário: R$ 10500\n",
      "Setor: T.I\n"
     ]
    }
   ],
   "source": [
    "f1 = Funcionario(\"Ilberto\", 7000)\n",
    "g1 = Gerente(\"Rodrigo\", 10500, \"T.I\")\n",
    "\n",
    "f1.exibir_dados()\n",
    "print(\"\\n\" + \"-\"*40 + \"\\n\")\n",
    "g1.exibir_dados()"
   ]
  },
  {
   "cell_type": "code",
   "execution_count": 50,
   "id": "204bf9d6",
   "metadata": {},
   "outputs": [],
   "source": [
    "# Exercício 8: Conta Bancária e Especializações\n",
    "#\n",
    "# Objetivo:\n",
    "# Criar uma hierarquia de classes que simule contas bancárias,\n",
    "# utilizando herança para reaproveitar código e polimorfismo\n",
    "# para personalizar comportamentos.\n",
    "#\n",
    "# Detalhes do exercício:\n",
    "#\n",
    "# 1. Crie uma classe base chamada ContaBancaria:\n",
    "#    - Atributos: titular (string), saldo (float).\n",
    "#    - Métodos:\n",
    "#        depositar(valor): aumenta o saldo.\n",
    "#        sacar(valor): diminui o saldo, caso haja saldo suficiente.\n",
    "#        exibir_saldo(): mostra o saldo atual.\n",
    "#\n",
    "# 2. Crie uma subclasse ContaCorrente:\n",
    "#    - Atributos adicionais: limite (float).\n",
    "#    - O método sacar deve permitir que o cliente saque mesmo sem saldo,\n",
    "#      desde que não ultrapasse o limite do cheque especial.\n",
    "#\n",
    "# 3. Crie uma subclasse ContaPoupanca:\n",
    "#    - Deve herdar os métodos de ContaBancaria.\n",
    "#    - O método sacar deve permitir o saque apenas se houver saldo suficiente\n",
    "#      (sem limite extra).\n",
    "#    - Crie um método render_juros(taxa): aumenta o saldo conforme a taxa recebida.\n",
    "#\n",
    "# 4. Teste:\n",
    "#    - Crie uma instância de ContaCorrente e de ContaPoupanca.\n",
    "#    - Realize operações de depósito, saque e exiba os saldos.\n",
    "#    - Verifique a diferença no comportamento entre as duas contas.\n"
   ]
  },
  {
   "cell_type": "code",
   "execution_count": 77,
   "id": "09b62edf",
   "metadata": {},
   "outputs": [],
   "source": [
    "class ContaBancaria:\n",
    "    def __init__(self, titular, saldo):\n",
    "        self.titular = titular\n",
    "        self.saldo = float(saldo)\n",
    "\n",
    "    def depositar(self, valor):\n",
    "        self.saldo += valor\n",
    "\n",
    "    def sacar(self, valor):\n",
    "        if valor > self.saldo:\n",
    "            print(f\"{self.titular} não poderá sacar {valor}. Saldo insuficiente. | {self.titular} → Saldo Atual: {self.saldo}\")\n",
    "        else:\n",
    "            self.saldo -= valor\n",
    "            print(f\"{self.titular} sacou {valor}. | {self.titular} → Saldo Atual: {self.saldo}\")\n",
    "\n",
    "    def exibir_saldo(self):\n",
    "        print(f\"{self.titular} → Saldo Atual: {self.saldo}\")\n",
    "\n",
    "\n",
    "class ContaCorrente(ContaBancaria):\n",
    "    def __init__(self, titular, saldo, limite):\n",
    "        super().__init__(titular, saldo)\n",
    "        self.limite = float(limite)\n",
    "\n",
    "    def sacar(self, valor):\n",
    "        if valor > self.saldo + self.limite:\n",
    "            print(f\"{self.titular} não poderá sacar {valor}. Ultrapassa o limite do cheque especial. | {self.titular} → Saldo Atual: {self.saldo}\")\n",
    "        else:\n",
    "            self.saldo -= valor\n",
    "            print(f\"{self.titular} sacou {valor}. | {self.titular} → Saldo Atual: {self.saldo}\")\n",
    "\n",
    "\n",
    "class ContaPoupanca(ContaBancaria):\n",
    "    def __init__(self, titular, saldo, taxa):\n",
    "        super().__init__(titular, saldo)\n",
    "        self.taxa = float(taxa)\n",
    "\n",
    "    def sacar(self, valor):\n",
    "        if valor > self.saldo:\n",
    "            print(f\"{self.titular} não poderá sacar {valor}. Saldo insuficiente. | {self.titular} → Saldo Atual: {self.saldo}\")\n",
    "        else:\n",
    "            self.saldo -= valor\n",
    "            print(f\"{self.titular} sacou {valor}. | {self.titular} → Saldo Atual: {self.saldo}\")\n",
    "\n",
    "    def render_juros(self):\n",
    "        self.saldo += self.saldo * self.taxa\n",
    "\n",
    "\n"
   ]
  },
  {
   "cell_type": "code",
   "execution_count": 78,
   "id": "04ea37cb",
   "metadata": {},
   "outputs": [
    {
     "name": "stdout",
     "output_type": "stream",
     "text": [
      ">>> Saldos iniciais <<<\n",
      "Alice → Saldo Atual: 1000.0\n",
      "Bob → Saldo Atual: 1000.0\n",
      "Carol → Saldo Atual: 1000.0\n",
      "\n",
      ">>> Após depósito de 200 <<<\n",
      "Alice → Saldo Atual: 1200.0\n",
      "Bob → Saldo Atual: 1200.0\n",
      "Carol → Saldo Atual: 1200.0\n",
      "\n",
      ">>> Tentando sacar 1500 <<<\n",
      "Alice não poderá sacar 1500. Saldo insuficiente. | Alice → Saldo Atual: 1200.0\n",
      "Bob sacou 1500. | Bob → Saldo Atual: -300.0\n",
      "Carol não poderá sacar 1500. Saldo insuficiente. | Carol → Saldo Atual: 1200.0\n",
      "\n",
      ">>> Aplicando juros na poupança <<<\n",
      "Alice → Saldo Atual: 1200.0\n",
      "Bob → Saldo Atual: -300.0\n",
      "Carol → Saldo Atual: 1260.0\n"
     ]
    }
   ],
   "source": [
    "contas = [\n",
    "    ContaBancaria(\"Alice\", 1000),\n",
    "    ContaCorrente(\"Bob\", 1000, 500),\n",
    "    ContaPoupanca(\"Carol\", 1000, 0.05)\n",
    "]\n",
    "\n",
    "print(\">>> Saldos iniciais <<<\")\n",
    "for conta in contas:\n",
    "    conta.exibir_saldo()\n",
    "\n",
    "print(\"\\n>>> Após depósito de 200 <<<\")\n",
    "for conta in contas:\n",
    "    conta.depositar(200)\n",
    "    conta.exibir_saldo()\n",
    "\n",
    "print(\"\\n>>> Tentando sacar 1500 <<<\")\n",
    "for conta in contas:\n",
    "    conta.sacar(1500)\n",
    "\n",
    "print(\"\\n>>> Aplicando juros na poupança <<<\")\n",
    "for conta in contas:\n",
    "    if isinstance(conta, ContaPoupanca):\n",
    "        conta.render_juros()\n",
    "    conta.exibir_saldo()\n",
    "\n"
   ]
  },
  {
   "cell_type": "code",
   "execution_count": null,
   "id": "480e94a9",
   "metadata": {},
   "outputs": [],
   "source": [
    "# ==========================\n",
    "# Exercício: Animais\n",
    "# ==========================\n",
    "# 1. Crie uma classe Animal com atributo 'nome' e método 'fazer_som()'.\n",
    "# 2. Crie duas subclasses: Cachorro e Gato, cada uma sobrescrevendo 'fazer_som()'\n",
    "#    - Cachorro: imprime \"Au Au\"\n",
    "#    - Gato: imprime \"Miau\"\n",
    "# 3. Crie instâncias de cada uma e chame 'fazer_som()' para cada.\n",
    "#    Observe o polimorfismo (mesmo método, sons diferentes).\n"
   ]
  },
  {
   "cell_type": "code",
   "execution_count": 96,
   "id": "6e2259e8",
   "metadata": {},
   "outputs": [],
   "source": [
    "class Animais:\n",
    "    def __init__(self, nome):\n",
    "        self.nome = nome\n",
    "\n",
    "    def fazer_som(self):\n",
    "        print('som genérico')\n",
    "\n",
    "class Cachorro(Animais):\n",
    "    def __init__(self, nome):\n",
    "        super().__init__(nome)\n",
    "    \n",
    "    def fazer_som(self):\n",
    "        print('AU AU')\n",
    "\n",
    "class Gato(Animais):\n",
    "    def __init__(self, nome):\n",
    "        super().__init__(nome)\n",
    "    \n",
    "    def fazer_som(self):\n",
    "        print('MIAU')"
   ]
  },
  {
   "cell_type": "code",
   "execution_count": 105,
   "id": "3b9ce29e",
   "metadata": {},
   "outputs": [
    {
     "name": "stdout",
     "output_type": "stream",
     "text": [
      "MIAU\n",
      "AU AU\n"
     ]
    }
   ],
   "source": [
    "Gato.fazer_som()\n",
    "Cachorro.fazer_som()"
   ]
  },
  {
   "cell_type": "code",
   "execution_count": null,
   "id": "b19ca446",
   "metadata": {},
   "outputs": [],
   "source": [
    "# ==========================\n",
    "# Exercício: Veículos\n",
    "# ==========================\n",
    "# 1. Crie uma classe Veiculo com atributos:\n",
    "#    - modelo (string)\n",
    "#    - velocidade_atual (float, inicial 0)\n",
    "#    - velocidade_maxima (float)\n",
    "# 2. Crie métodos:\n",
    "#    - acelerar(valor): aumenta a velocidade atual, sem ultrapassar a velocidade_maxima\n",
    "#    - frear(valor): diminui a velocidade atual, sem ficar abaixo de 0\n",
    "#    - exibir_status(): imprime \"modelo → velocidade_atual/velocidade_maxima\"\n",
    "# 3. Crie duas subclasses:\n",
    "#    - Carro: atributo extra 'combustivel' (float) e método abastecer(valor) que aumenta o combustível\n",
    "#    - Bicicleta: atributo extra 'tipo' (string, ex: \"mountain\" ou \"urbana\")\n",
    "# 4. Crie instâncias e teste acelerar, frear e exibir_status.  \n",
    "#    Observe que mesmo chamando o mesmo método 'acelerar', o efeito depende do objeto (polimorfismo possível para futuras extensões)"
   ]
  },
  {
   "cell_type": "code",
   "execution_count": 116,
   "id": "ae323d62",
   "metadata": {},
   "outputs": [],
   "source": [
    "class Veiculo:\n",
    "    def __init__(self, modelo, velocidade_maxima, velocidade_atual = 0):\n",
    "        self.modelo = modelo\n",
    "        self.velocidade_atual = (velocidade_atual)\n",
    "        self.velocidade_maxima = (velocidade_maxima)\n",
    "    \n",
    "\n",
    "    def acelerar(self, valor):\n",
    "\n",
    "        if self.velocidade_atual + valor > self.velocidade_maxima:\n",
    "            print(f'Você não pode passar velocidade máxima de {self.velocidade_maxima}')\n",
    "        else:\n",
    "            self.velocidade_atual = self.velocidade_atual + valor\n",
    "\n",
    "    def frear(self, valor):\n",
    "        if self.velocidade_atual - valor < 0:\n",
    "            print(\"Não é possível a velocidade estar a baixo de 0\")\n",
    "        else:\n",
    "            self.velocidade_atual -= valor\n",
    "\n",
    "    def exibir_status(self):\n",
    "        print(f\"{self.modelo} → {self.velocidade_atual}/{self.velocidade_maxima}\")"
   ]
  },
  {
   "cell_type": "code",
   "execution_count": 118,
   "id": "68d224c9",
   "metadata": {},
   "outputs": [],
   "source": [
    "class Carro(Veiculo):\n",
    "    def __init__(self, modelo, velocidade_maxima, combustivel):\n",
    "        super().__init__(modelo, velocidade_maxima, velocidade_atual=0)\n",
    "\n",
    "\n",
    "        self.combustivel =  combustivel   \n",
    "    \n",
    "    def abastecer(self, valor):\n",
    "        self.combustivel += valor\n",
    "\n",
    "class Bicicleta(Veiculo):\n",
    "    def __init__(self, modelo, velocidade_maxima, tipo, velocidade_atual=0):\n",
    "        super().__init__(modelo, velocidade_maxima, velocidade_atual)\n",
    "        self.tipo = tipo\n",
    "        "
   ]
  },
  {
   "cell_type": "code",
   "execution_count": 119,
   "id": "20e0fbf5",
   "metadata": {},
   "outputs": [
    {
     "name": "stdout",
     "output_type": "stream",
     "text": [
      ">>> Status inicial <<<\n",
      "VeiculoGenérico → 0/100\n",
      "Fusca → 0/120\n",
      "MountainBike → 0/30\n",
      "Fusca → Combustível: 50L\n",
      "\n",
      ">>> Acelerando <<<\n",
      "Você não pode passar velocidade máxima de 120\n",
      "VeiculoGenérico → 50/100\n",
      "Fusca → 0/120\n",
      "MountainBike → 20/30\n",
      "\n",
      ">>> Freando <<<\n",
      "Não é possível a velocidade estar a baixo de 0\n",
      "Não é possível a velocidade estar a baixo de 0\n",
      "VeiculoGenérico → 20/100\n",
      "Fusca → 0/120\n",
      "MountainBike → 20/30\n",
      "\n",
      ">>> Abastecendo Carro <<<\n",
      "Fusca → Combustível: 70L\n"
     ]
    }
   ],
   "source": [
    "# ==========================\n",
    "# Teste das classes Veiculo, Carro e Bicicleta\n",
    "# ==========================\n",
    "\n",
    "# Criando instâncias\n",
    "v = Veiculo(\"VeiculoGenérico\", 100)\n",
    "c = Carro(\"Fusca\", 120, combustivel =50)\n",
    "b = Bicicleta(\"MountainBike\", 30, tipo=\"mountain\")\n",
    "\n",
    "# Status inicial\n",
    "print(\">>> Status inicial <<<\")\n",
    "v.exibir_status()\n",
    "c.exibir_status()\n",
    "b.exibir_status()\n",
    "print(f\"{c.modelo} → Combustível: {c.combustivel}L\\n\")\n",
    "\n",
    "# Acelerando\n",
    "print(\">>> Acelerando <<<\")\n",
    "v.acelerar(50)\n",
    "c.acelerar(130)  # teste ultrapassando o máximo\n",
    "b.acelerar(20)\n",
    "v.exibir_status()\n",
    "c.exibir_status()\n",
    "b.exibir_status()\n",
    "print()\n",
    "\n",
    "# Freando\n",
    "print(\">>> Freando <<<\")\n",
    "v.frear(30)\n",
    "c.frear(50)\n",
    "b.frear(25)\n",
    "v.exibir_status()\n",
    "c.exibir_status()\n",
    "b.exibir_status()\n",
    "print()\n",
    "\n",
    "# Abastecendo carro\n",
    "print(\">>> Abastecendo Carro <<<\")\n",
    "c.abastecer(20)\n",
    "print(f\"{c.modelo} → Combustível: {c.combustivel}L\")\n"
   ]
  }
 ],
 "metadata": {
  "kernelspec": {
   "display_name": "Python 3",
   "language": "python",
   "name": "python3"
  },
  "language_info": {
   "codemirror_mode": {
    "name": "ipython",
    "version": 3
   },
   "file_extension": ".py",
   "mimetype": "text/x-python",
   "name": "python",
   "nbconvert_exporter": "python",
   "pygments_lexer": "ipython3",
   "version": "3.13.7"
  }
 },
 "nbformat": 4,
 "nbformat_minor": 5
}
